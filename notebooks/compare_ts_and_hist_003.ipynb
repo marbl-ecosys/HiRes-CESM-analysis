{
 "cells": [
  {
   "cell_type": "code",
   "execution_count": 1,
   "metadata": {},
   "outputs": [],
   "source": [
    "from datetime import datetime\n",
    "\n",
    "import yaml\n",
    "\n",
    "import utils"
   ]
  },
  {
   "cell_type": "code",
   "execution_count": 2,
   "metadata": {},
   "outputs": [],
   "source": [
    "casename = \"g.e22.G1850ECO_JRA_HR.TL319_t13.003\"\n",
    "\n",
    "# currently have all history files and time series available\n",
    "# 003 only ran for four years\n",
    "start_year = 1\n",
    "end_year = 4"
   ]
  },
  {
   "cell_type": "code",
   "execution_count": 3,
   "metadata": {},
   "outputs": [],
   "source": [
    "with open(\"diag_metadata.yaml\", mode=\"r\") as fptr:\n",
    "    diag_metadata_list = yaml.safe_load(fptr)\n",
    "\n",
    "varnames = utils.get_varnames_from_metadata_list(diag_metadata_list)"
   ]
  },
  {
   "cell_type": "code",
   "execution_count": 4,
   "metadata": {},
   "outputs": [
    {
     "name": "stdout",
     "output_type": "stream",
     "text": [
      "Starting year 0001 at 13:07:35 2020-10-09\n",
      "No differences found in year 0001\n",
      "Finished 1 at 13:12:38 2020-10-09\n",
      "----\n",
      "Starting year 0002 at 13:12:38 2020-10-09\n",
      "No differences found in year 0002\n",
      "Finished 2 at 13:17:28 2020-10-09\n",
      "----\n",
      "Starting year 0003 at 13:17:28 2020-10-09\n",
      "No differences found in year 0003\n",
      "Finished 3 at 13:22:19 2020-10-09\n",
      "----\n",
      "Starting year 0004 at 13:22:19 2020-10-09\n",
      "No differences found in year 0004\n",
      "Finished 4 at 13:27:07 2020-10-09\n",
      "----\n"
     ]
    }
   ],
   "source": [
    "case_hist = utils.CaseClass(casename)\n",
    "case_ts = utils.CaseClass(casename)\n",
    "\n",
    "stream = \"pop.h\"\n",
    "case_hist._timeseries_filenames[stream] = []\n",
    "\n",
    "for year in range(start_year, end_year + 1):\n",
    "    print(\n",
    "        f\"Starting year {year:04} at {datetime.now().strftime('%H:%M:%S %Y-%m-%d')}\"\n",
    "    )\n",
    "    all_same = True\n",
    "    for diag_metadata in diag_metadata_list:\n",
    "        varname = diag_metadata[\"varname\"]\n",
    "        ds_hist = case_hist.gen_dataset(\n",
    "            varname, stream, start_year=year, end_year=year, quiet=True\n",
    "        )\n",
    "        ds_ts = case_ts.gen_dataset(\n",
    "            varname, stream, start_year=year, end_year=year, quiet=True\n",
    "        )\n",
    "        da_hist = ds_hist[varname].isel(diag_metadata.get(\"isel_dict\"))\n",
    "        da_ts = ds_ts[varname].isel(diag_metadata.get(\"isel_dict\"))\n",
    "        if not da_hist.identical(da_ts):\n",
    "            print(f\"{varname} is different in year {year:04}\")\n",
    "            all_same = False\n",
    "    if all_same:\n",
    "        print(f\"No differences found in year {year:04}\")\n",
    "    print(f\"Finished {year} at {datetime.now().strftime('%H:%M:%S %Y-%m-%d')}\")\n",
    "    print(\"----\")"
   ]
  }
 ],
 "metadata": {
  "kernelspec": {
   "display_name": "Python [conda env:hires-marbl]",
   "language": "python",
   "name": "conda-env-hires-marbl-py"
  },
  "language_info": {
   "codemirror_mode": {
    "name": "ipython",
    "version": 3
   },
   "file_extension": ".py",
   "mimetype": "text/x-python",
   "name": "python",
   "nbconvert_exporter": "python",
   "pygments_lexer": "ipython3",
   "version": "3.7.8"
  }
 },
 "nbformat": 4,
 "nbformat_minor": 4
}
