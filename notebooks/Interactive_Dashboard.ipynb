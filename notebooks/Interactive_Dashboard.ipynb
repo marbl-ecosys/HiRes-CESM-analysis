{
 "cells": [
  {
   "cell_type": "markdown",
   "metadata": {},
   "source": [
    "# HiRes-CESM Interactive Dashboard Example\n",
    "\n",
    "Images created by this package can be visualized through an interactive\n",
    "dashboard using [Panelify](https://github.com/andersy005/panelify)\n"
   ]
  },
  {
   "cell_type": "code",
   "execution_count": null,
   "metadata": {},
   "outputs": [],
   "source": [
    "import os\n",
    "import pathlib\n",
    "\n",
    "import pandas as pd\n",
    "import panel as pn\n",
    "import panelify\n",
    "import yaml\n",
    "import utils\n",
    "\n",
    "pn.extension()"
   ]
  },
  {
   "cell_type": "markdown",
   "metadata": {},
   "source": [
    "---\n",
    "\n",
    "## Accessing the Data (Plots)\n",
    "\n",
    "The plots from this example are stored on the\n",
    "[CGD webext machine](https://webext.cgd.ucar.edu/), specifically from\n",
    "[this specific case](https://webext.cgd.ucar.edu/g.e22.G1850ECO_JRA_HR.TL319_t13.004/),\n",
    "which we use as the path. If running this notebook on glade, plots will come\n",
    "from\n",
    "`/glade/work/mlevy/hi-res_BGC_JRA/analysis/notebooks/images/g.e22.G1850ECO_JRA_HR.TL319_t13.004`.\n",
    "\n",
    "We create a helper function which deals with reading in the image catalog, and\n",
    "converting from relative filepaths to absolute filepaths\n"
   ]
  },
  {
   "cell_type": "code",
   "execution_count": null,
   "metadata": {},
   "outputs": [],
   "source": [
    "def read_dataframe(paths, relative_filepath=True):\n",
    "    print(f\"read_dataframe was provided {len(paths)} path(s)\")\n",
    "    if len(paths) > 1:\n",
    "        df_list = []\n",
    "\n",
    "        for path in paths:\n",
    "            df = pd.read_csv(\n",
    "                f\"{path}png_catalog.csv\"\n",
    "            )  # .drop(columns=\"Unnamed: 0\")\n",
    "\n",
    "            # Convert the relative filepaths to absolute filepaths\n",
    "            df[\"absolute_filepath\"] = path + df.filepath.astype(str)\n",
    "\n",
    "            df_list.append(df)\n",
    "\n",
    "        # Merge the dataframes\n",
    "        df = pd.concat(df_list)\n",
    "\n",
    "    else:\n",
    "        df = pd.read_csv(f\"{paths[0]}png_catalog.csv\")\n",
    "\n",
    "        # Convert the relative filepaths to absolute filepaths\n",
    "        df[\"absolute_filepath\"] = paths[0] + df.filepath.astype(str)\n",
    "\n",
    "    return df"
   ]
  },
  {
   "cell_type": "markdown",
   "metadata": {},
   "source": [
    "### Dealing with Relative vs. Absolute Paths\n",
    "\n",
    "In the previous cell, we edited the filepaths... that is because the image\n",
    "filepaths in the `csv` file are relative paths, but we want to provide the\n",
    "dashboard absolute paths. We make use of the dataframe path to assign the new\n",
    "absolute filepaths.\n"
   ]
  },
  {
   "cell_type": "markdown",
   "metadata": {},
   "source": [
    "---\n",
    "\n",
    "### Build the Dashboard with Files on Glade or from webext\n",
    "\n",
    "When running on glade, we build the dashboard using files from Mike Levy's\n",
    "output\n",
    "`/glade/work/mlevy/hi-res_BGC_JRA/analysis/notebooks/images/g.e22.G1850ECO_JRA_HR.TL319_t13.004/`.\n",
    "If you ran the notebooks (ex. `plot_suite_004.ipynb`), and generated images in\n",
    "the `images/` directory, you could use the relative path\n",
    "`images/g.e22.G1850ECO_JRA_HR.TL319_t13.004`~\n",
    "\n",
    "If you are not running with access to the files on glade, and do not opt to use\n",
    "the local relative path, the dashboard will use case output available on CGD's\n",
    "`webext` web server.\n"
   ]
  },
  {
   "cell_type": "markdown",
   "metadata": {},
   "source": [
    "#### Once the path is setup, we can go ahead and check which types of plots are included in the analysis.\n"
   ]
  },
  {
   "cell_type": "code",
   "execution_count": null,
   "metadata": {},
   "outputs": [],
   "source": [
    "# Absolute path - use if you have NOT run the analysis notebooks\n",
    "glade_root = os.path.join(\n",
    "    os.path.sep,\n",
    "    \"glade\",\n",
    "    \"work\",\n",
    "    \"mlevy\",\n",
    "    \"hi-res_BGC_JRA\",\n",
    "    \"analysis\",\n",
    "    \"notebooks\",\n",
    "    \"images\",\n",
    ")\n",
    "\n",
    "# To use local plots, uncomment the line below:\n",
    "# glade_root = \"images\"\n",
    "\n",
    "if os.path.isdir(glade_root):\n",
    "\n",
    "    # This was left empty for glade as well, though the comment referenced https\n",
    "    storage_options = {}\n",
    "    print(\"Reading output from disk\")\n",
    "    paths = [os.path.join(glade_root, \"g.e22.G1850ECO_JRA_HR.TL319_t13.004\")]\n",
    "\n",
    "else:\n",
    "    print(\"Reading output from web\")\n",
    "    # Since we are using https, we leave this dictionary empty\n",
    "    storage_options = {}\n",
    "    paths = [\n",
    "        \"https://webext.cgd.ucar.edu/g.e22.G1850ECO_JRA_HR.TL319_t13.004/\",\n",
    "        \"https://webext.cgd.ucar.edu/g.e22.G1850ECO_JRA_HR.TL319_t13.003/\",\n",
    "    ]"
   ]
  },
  {
   "cell_type": "code",
   "execution_count": null,
   "metadata": {},
   "outputs": [],
   "source": [
    "df = read_dataframe(paths)\n",
    "df.plot_type.unique()"
   ]
  },
  {
   "cell_type": "markdown",
   "metadata": {},
   "source": [
    "#### Adding plot types to the dashboard\n",
    "\n",
    "Above, we see that there are 5 unique plot types defined in the data frame. Only\n",
    "the data frames that are defined in `dashboard.yaml` are added to the dashboard.\n",
    "Currently, that means the `trend_map` plots are not included (but the other four\n",
    "are).\n",
    "\n",
    "The cell below builds the dashboard from `dashboard.yaml` and then runs it in\n",
    "the notebook.\n"
   ]
  },
  {
   "cell_type": "code",
   "execution_count": null,
   "metadata": {},
   "outputs": [],
   "source": [
    "canvas = {}\n",
    "\n",
    "config_path = f\"{utils.notebooks_dir}/dashboard.yaml\"\n",
    "\n",
    "with open(config_path) as yaml_file:\n",
    "    panel_opts = yaml.safe_load(yaml_file)\n",
    "\n",
    "# Create the timestep dashboard\n",
    "for key, kwargs in panel_opts.items():\n",
    "    canvas[key] = panelify.create_dashboard(\n",
    "        df=df.loc[df.plot_type == key],\n",
    "        path_column=\"absolute_filepath\",\n",
    "        storage_options=storage_options,\n",
    "        **kwargs,\n",
    "    )\n",
    "\n",
    "dashboard = panelify.Canvas(canvas).show()\n",
    "dashboard.servable(\"HiRes-CESM Diagnostics Dashboard\")"
   ]
  }
 ],
 "metadata": {
  "kernelspec": {
   "display_name": "Python 3 (ipykernel)",
   "language": "python",
   "name": "python3"
  },
  "language_info": {
   "codemirror_mode": {
    "name": "ipython",
    "version": 3
   },
   "file_extension": ".py",
   "mimetype": "text/x-python",
   "name": "python",
   "nbconvert_exporter": "python",
   "pygments_lexer": "ipython3",
   "version": "3.9.6"
  }
 },
 "nbformat": 4,
 "nbformat_minor": 4
}
