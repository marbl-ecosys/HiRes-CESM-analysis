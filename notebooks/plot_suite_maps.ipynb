{
 "cells": [
  {
   "cell_type": "code",
   "execution_count": 1,
   "metadata": {},
   "outputs": [],
   "source": [
    "import yaml\n",
    "\n",
    "import utils\n",
    "from utils.utils_units import conv_units\n",
    "from utils.Plotting import _apply_log10_vals\n",
    "\n",
    "import matplotlib.pyplot as plt\n",
    "import numpy as np\n",
    "import xarray as xr\n",
    "import cftime\n",
    "from tqdm.auto import tqdm\n",
    "from pathlib import Path\n",
    "import dask\n",
    "from dask_jobqueue import SLURMCluster\n",
    "from distributed import Client, progress, wait\n",
    "%matplotlib inline\n",
    "%load_ext autoreload\n",
    "%autoreload 2\n"
   ]
  },
  {
   "cell_type": "code",
   "execution_count": 2,
   "metadata": {},
   "outputs": [
    {
     "data": {
      "application/vnd.jupyter.widget-view+json": {
       "model_id": "3b9a471777ed4991a54a710f2aaffc10",
       "version_major": 2,
       "version_minor": 0
      },
      "text/plain": [
       "VBox(children=(HTML(value='<h2>SLURMCluster</h2>'), HBox(children=(HTML(value='\\n<div>\\n  <style scoped>\\n    …"
      ]
     },
     "metadata": {},
     "output_type": "display_data"
    }
   ],
   "source": [
    "cluster = SLURMCluster(cores=1, processes=1, memory=\"10GB\")\n",
    "cluster.adapt(minimum_jobs=34, maximum_jobs=35)\n",
    "client = Client(cluster)\n",
    "cluster"
   ]
  },
  {
   "cell_type": "code",
   "execution_count": 3,
   "metadata": {},
   "outputs": [],
   "source": [
    "image_dir = Path(\"../images\")\n",
    "image_dir.mkdir(parents=True, exist_ok=True)"
   ]
  },
  {
   "cell_type": "code",
   "execution_count": 4,
   "metadata": {},
   "outputs": [],
   "source": [
    "with open(\"diag_metadata.yaml\", mode=\"r\") as fptr:\n",
    "    diag_metadata_list = yaml.safe_load(fptr)"
   ]
  },
  {
   "cell_type": "code",
   "execution_count": 5,
   "metadata": {},
   "outputs": [],
   "source": [
    "def plot(da, diag_metadata, image_dir, cmap=\"plasma\"):\n",
    "    import matplotlib.pyplot as plt\n",
    "    import numpy as np\n",
    "    import xarray as xr\n",
    "\n",
    "    plot_type = \"timestep-global-map\"\n",
    "\n",
    "    try:\n",
    "        time = str(da.time.data.item())\n",
    "        varname = diag_metadata[\"varname\"]\n",
    "        for apply_log10 in _apply_log10_vals(diag_metadata):\n",
    "            filename = f\"{varname}+{time}\"\n",
    "            vmin = diag_metadata.get(\"map_vmin\")\n",
    "            vmax = diag_metadata.get(\"map_vmax\")\n",
    "            if apply_log10:\n",
    "                if vmin is not None:\n",
    "                    vmin = np.log10(vmin) if vmin > 0.0 else None\n",
    "                if vmax is not None:\n",
    "                    vmax = np.log10(vmax) if vmax > 0.0 else None\n",
    "            to_plot = da.copy()\n",
    "\n",
    "            if \"display_units\" in diag_metadata:\n",
    "                to_plot = conv_units(to_plot, diag_metadata[\"display_units\"])\n",
    "            if apply_log10:\n",
    "                to_plot = np.log10(xr.where(to_plot > 0.0, to_plot, np.nan))\n",
    "                to_plot.name = f\"log10({to_plot.name})\"\n",
    "                filename = f\"{filename}+log_10@{apply_log10}\"\n",
    "            if \"isel_dict\" in diag_metadata:\n",
    "                depth_levels = dict()\n",
    "                for key in isel_dict:\n",
    "                    depth_levels[key] = to_plot[key].data.item()\n",
    "                s = \"+\".join(\n",
    "                    [\n",
    "                        \"%s@%s\" % (key, value)\n",
    "                        for (key, value) in depth_levels.items()\n",
    "                    ]\n",
    "                )\n",
    "                filename = f\"{filename}+{s}.png\"\n",
    "            else:\n",
    "                filename = f\"{filename}.png\"\n",
    "            path = image_dir / plot_type / filename\n",
    "            if path.exists():\n",
    "                return da.time\n",
    "            ax = to_plot.plot(cmap=cmap, vmin=vmin, vmax=vmax)\n",
    "            fig = ax.get_figure()\n",
    "            plt.savefig(path.as_posix(), dpi=300)\n",
    "            plt.close(fig)\n",
    "    except Exception as exc:\n",
    "        print(exc)\n",
    "    return da.time"
   ]
  },
  {
   "cell_type": "code",
   "execution_count": 6,
   "metadata": {},
   "outputs": [
    {
     "name": "stdout",
     "output_type": "stream",
     "text": [
      "Datasets contain a total of 48 time samples\n",
      "Last average written at 0005-01-01 00:00:00\n"
     ]
    }
   ],
   "source": [
    "case = utils.CaseClass(\n",
    "    \"g.e22.G1850ECO_JRA_HR.TL319_t13.004\",\n",
    "    start_date=\"0001-01\",\n",
    "    end_date=\"0004-12\",\n",
    ")\n",
    "stream = \"pop.h\"\n",
    "case._open_history_files(stream)"
   ]
  },
  {
   "cell_type": "code",
   "execution_count": 7,
   "metadata": {},
   "outputs": [],
   "source": [
    "plots, v = [], []\n",
    "for diag_metadata in diag_metadata_list:\n",
    "    z = dict(diag=diag_metadata.copy())\n",
    "    varname = diag_metadata[\"varname\"]\n",
    "    isel_dict = diag_metadata.get(\"isel_dict\")\n",
    "    data = (\n",
    "        case.history_contents[stream][varname]\n",
    "        .isel(isel_dict)\n",
    "        .chunk({\"time\": 1})\n",
    "    )\n",
    "    z[\"data\"] = data\n",
    "    template = xr.zeros_like(data.time).chunk({\"time\": 1})\n",
    "    z[\"template\"] = template\n",
    "    p = xr.map_blocks(\n",
    "        plot, data, args=[z[\"diag\"], image_dir], template=template\n",
    "    )\n",
    "    v.append(z)\n",
    "    plots.append(p)"
   ]
  },
  {
   "cell_type": "code",
   "execution_count": 8,
   "metadata": {},
   "outputs": [
    {
     "data": {
      "text/html": [
       "<div><svg style=\"position: absolute; width: 0; height: 0; overflow: hidden\">\n",
       "<defs>\n",
       "<symbol id=\"icon-database\" viewBox=\"0 0 32 32\">\n",
       "<path d=\"M16 0c-8.837 0-16 2.239-16 5v4c0 2.761 7.163 5 16 5s16-2.239 16-5v-4c0-2.761-7.163-5-16-5z\"></path>\n",
       "<path d=\"M16 17c-8.837 0-16-2.239-16-5v6c0 2.761 7.163 5 16 5s16-2.239 16-5v-6c0 2.761-7.163 5-16 5z\"></path>\n",
       "<path d=\"M16 26c-8.837 0-16-2.239-16-5v6c0 2.761 7.163 5 16 5s16-2.239 16-5v-6c0 2.761-7.163 5-16 5z\"></path>\n",
       "</symbol>\n",
       "<symbol id=\"icon-file-text2\" viewBox=\"0 0 32 32\">\n",
       "<path d=\"M28.681 7.159c-0.694-0.947-1.662-2.053-2.724-3.116s-2.169-2.030-3.116-2.724c-1.612-1.182-2.393-1.319-2.841-1.319h-15.5c-1.378 0-2.5 1.121-2.5 2.5v27c0 1.378 1.122 2.5 2.5 2.5h23c1.378 0 2.5-1.122 2.5-2.5v-19.5c0-0.448-0.137-1.23-1.319-2.841zM24.543 5.457c0.959 0.959 1.712 1.825 2.268 2.543h-4.811v-4.811c0.718 0.556 1.584 1.309 2.543 2.268zM28 29.5c0 0.271-0.229 0.5-0.5 0.5h-23c-0.271 0-0.5-0.229-0.5-0.5v-27c0-0.271 0.229-0.5 0.5-0.5 0 0 15.499-0 15.5 0v7c0 0.552 0.448 1 1 1h7v19.5z\"></path>\n",
       "<path d=\"M23 26h-14c-0.552 0-1-0.448-1-1s0.448-1 1-1h14c0.552 0 1 0.448 1 1s-0.448 1-1 1z\"></path>\n",
       "<path d=\"M23 22h-14c-0.552 0-1-0.448-1-1s0.448-1 1-1h14c0.552 0 1 0.448 1 1s-0.448 1-1 1z\"></path>\n",
       "<path d=\"M23 18h-14c-0.552 0-1-0.448-1-1s0.448-1 1-1h14c0.552 0 1 0.448 1 1s-0.448 1-1 1z\"></path>\n",
       "</symbol>\n",
       "</defs>\n",
       "</svg>\n",
       "<style>/* CSS stylesheet for displaying xarray objects in jupyterlab.\n",
       " *\n",
       " */\n",
       "\n",
       ":root {\n",
       "  --xr-font-color0: var(--jp-content-font-color0, rgba(0, 0, 0, 1));\n",
       "  --xr-font-color2: var(--jp-content-font-color2, rgba(0, 0, 0, 0.54));\n",
       "  --xr-font-color3: var(--jp-content-font-color3, rgba(0, 0, 0, 0.38));\n",
       "  --xr-border-color: var(--jp-border-color2, #e0e0e0);\n",
       "  --xr-disabled-color: var(--jp-layout-color3, #bdbdbd);\n",
       "  --xr-background-color: var(--jp-layout-color0, white);\n",
       "  --xr-background-color-row-even: var(--jp-layout-color1, white);\n",
       "  --xr-background-color-row-odd: var(--jp-layout-color2, #eeeeee);\n",
       "}\n",
       "\n",
       "html[theme=dark],\n",
       "body.vscode-dark {\n",
       "  --xr-font-color0: rgba(255, 255, 255, 1);\n",
       "  --xr-font-color2: rgba(255, 255, 255, 0.54);\n",
       "  --xr-font-color3: rgba(255, 255, 255, 0.38);\n",
       "  --xr-border-color: #1F1F1F;\n",
       "  --xr-disabled-color: #515151;\n",
       "  --xr-background-color: #111111;\n",
       "  --xr-background-color-row-even: #111111;\n",
       "  --xr-background-color-row-odd: #313131;\n",
       "}\n",
       "\n",
       ".xr-wrap {\n",
       "  display: block;\n",
       "  min-width: 300px;\n",
       "  max-width: 700px;\n",
       "}\n",
       "\n",
       ".xr-text-repr-fallback {\n",
       "  /* fallback to plain text repr when CSS is not injected (untrusted notebook) */\n",
       "  display: none;\n",
       "}\n",
       "\n",
       ".xr-header {\n",
       "  padding-top: 6px;\n",
       "  padding-bottom: 6px;\n",
       "  margin-bottom: 4px;\n",
       "  border-bottom: solid 1px var(--xr-border-color);\n",
       "}\n",
       "\n",
       ".xr-header > div,\n",
       ".xr-header > ul {\n",
       "  display: inline;\n",
       "  margin-top: 0;\n",
       "  margin-bottom: 0;\n",
       "}\n",
       "\n",
       ".xr-obj-type,\n",
       ".xr-array-name {\n",
       "  margin-left: 2px;\n",
       "  margin-right: 10px;\n",
       "}\n",
       "\n",
       ".xr-obj-type {\n",
       "  color: var(--xr-font-color2);\n",
       "}\n",
       "\n",
       ".xr-sections {\n",
       "  padding-left: 0 !important;\n",
       "  display: grid;\n",
       "  grid-template-columns: 150px auto auto 1fr 20px 20px;\n",
       "}\n",
       "\n",
       ".xr-section-item {\n",
       "  display: contents;\n",
       "}\n",
       "\n",
       ".xr-section-item input {\n",
       "  display: none;\n",
       "}\n",
       "\n",
       ".xr-section-item input + label {\n",
       "  color: var(--xr-disabled-color);\n",
       "}\n",
       "\n",
       ".xr-section-item input:enabled + label {\n",
       "  cursor: pointer;\n",
       "  color: var(--xr-font-color2);\n",
       "}\n",
       "\n",
       ".xr-section-item input:enabled + label:hover {\n",
       "  color: var(--xr-font-color0);\n",
       "}\n",
       "\n",
       ".xr-section-summary {\n",
       "  grid-column: 1;\n",
       "  color: var(--xr-font-color2);\n",
       "  font-weight: 500;\n",
       "}\n",
       "\n",
       ".xr-section-summary > span {\n",
       "  display: inline-block;\n",
       "  padding-left: 0.5em;\n",
       "}\n",
       "\n",
       ".xr-section-summary-in:disabled + label {\n",
       "  color: var(--xr-font-color2);\n",
       "}\n",
       "\n",
       ".xr-section-summary-in + label:before {\n",
       "  display: inline-block;\n",
       "  content: '►';\n",
       "  font-size: 11px;\n",
       "  width: 15px;\n",
       "  text-align: center;\n",
       "}\n",
       "\n",
       ".xr-section-summary-in:disabled + label:before {\n",
       "  color: var(--xr-disabled-color);\n",
       "}\n",
       "\n",
       ".xr-section-summary-in:checked + label:before {\n",
       "  content: '▼';\n",
       "}\n",
       "\n",
       ".xr-section-summary-in:checked + label > span {\n",
       "  display: none;\n",
       "}\n",
       "\n",
       ".xr-section-summary,\n",
       ".xr-section-inline-details {\n",
       "  padding-top: 4px;\n",
       "  padding-bottom: 4px;\n",
       "}\n",
       "\n",
       ".xr-section-inline-details {\n",
       "  grid-column: 2 / -1;\n",
       "}\n",
       "\n",
       ".xr-section-details {\n",
       "  display: none;\n",
       "  grid-column: 1 / -1;\n",
       "  margin-bottom: 5px;\n",
       "}\n",
       "\n",
       ".xr-section-summary-in:checked ~ .xr-section-details {\n",
       "  display: contents;\n",
       "}\n",
       "\n",
       ".xr-array-wrap {\n",
       "  grid-column: 1 / -1;\n",
       "  display: grid;\n",
       "  grid-template-columns: 20px auto;\n",
       "}\n",
       "\n",
       ".xr-array-wrap > label {\n",
       "  grid-column: 1;\n",
       "  vertical-align: top;\n",
       "}\n",
       "\n",
       ".xr-preview {\n",
       "  color: var(--xr-font-color3);\n",
       "}\n",
       "\n",
       ".xr-array-preview,\n",
       ".xr-array-data {\n",
       "  padding: 0 5px !important;\n",
       "  grid-column: 2;\n",
       "}\n",
       "\n",
       ".xr-array-data,\n",
       ".xr-array-in:checked ~ .xr-array-preview {\n",
       "  display: none;\n",
       "}\n",
       "\n",
       ".xr-array-in:checked ~ .xr-array-data,\n",
       ".xr-array-preview {\n",
       "  display: inline-block;\n",
       "}\n",
       "\n",
       ".xr-dim-list {\n",
       "  display: inline-block !important;\n",
       "  list-style: none;\n",
       "  padding: 0 !important;\n",
       "  margin: 0;\n",
       "}\n",
       "\n",
       ".xr-dim-list li {\n",
       "  display: inline-block;\n",
       "  padding: 0;\n",
       "  margin: 0;\n",
       "}\n",
       "\n",
       ".xr-dim-list:before {\n",
       "  content: '(';\n",
       "}\n",
       "\n",
       ".xr-dim-list:after {\n",
       "  content: ')';\n",
       "}\n",
       "\n",
       ".xr-dim-list li:not(:last-child):after {\n",
       "  content: ',';\n",
       "  padding-right: 5px;\n",
       "}\n",
       "\n",
       ".xr-has-index {\n",
       "  font-weight: bold;\n",
       "}\n",
       "\n",
       ".xr-var-list,\n",
       ".xr-var-item {\n",
       "  display: contents;\n",
       "}\n",
       "\n",
       ".xr-var-item > div,\n",
       ".xr-var-item label,\n",
       ".xr-var-item > .xr-var-name span {\n",
       "  background-color: var(--xr-background-color-row-even);\n",
       "  margin-bottom: 0;\n",
       "}\n",
       "\n",
       ".xr-var-item > .xr-var-name:hover span {\n",
       "  padding-right: 5px;\n",
       "}\n",
       "\n",
       ".xr-var-list > li:nth-child(odd) > div,\n",
       ".xr-var-list > li:nth-child(odd) > label,\n",
       ".xr-var-list > li:nth-child(odd) > .xr-var-name span {\n",
       "  background-color: var(--xr-background-color-row-odd);\n",
       "}\n",
       "\n",
       ".xr-var-name {\n",
       "  grid-column: 1;\n",
       "}\n",
       "\n",
       ".xr-var-dims {\n",
       "  grid-column: 2;\n",
       "}\n",
       "\n",
       ".xr-var-dtype {\n",
       "  grid-column: 3;\n",
       "  text-align: right;\n",
       "  color: var(--xr-font-color2);\n",
       "}\n",
       "\n",
       ".xr-var-preview {\n",
       "  grid-column: 4;\n",
       "}\n",
       "\n",
       ".xr-var-name,\n",
       ".xr-var-dims,\n",
       ".xr-var-dtype,\n",
       ".xr-preview,\n",
       ".xr-attrs dt {\n",
       "  white-space: nowrap;\n",
       "  overflow: hidden;\n",
       "  text-overflow: ellipsis;\n",
       "  padding-right: 10px;\n",
       "}\n",
       "\n",
       ".xr-var-name:hover,\n",
       ".xr-var-dims:hover,\n",
       ".xr-var-dtype:hover,\n",
       ".xr-attrs dt:hover {\n",
       "  overflow: visible;\n",
       "  width: auto;\n",
       "  z-index: 1;\n",
       "}\n",
       "\n",
       ".xr-var-attrs,\n",
       ".xr-var-data {\n",
       "  display: none;\n",
       "  background-color: var(--xr-background-color) !important;\n",
       "  padding-bottom: 5px !important;\n",
       "}\n",
       "\n",
       ".xr-var-attrs-in:checked ~ .xr-var-attrs,\n",
       ".xr-var-data-in:checked ~ .xr-var-data {\n",
       "  display: block;\n",
       "}\n",
       "\n",
       ".xr-var-data > table {\n",
       "  float: right;\n",
       "}\n",
       "\n",
       ".xr-var-name span,\n",
       ".xr-var-data,\n",
       ".xr-attrs {\n",
       "  padding-left: 25px !important;\n",
       "}\n",
       "\n",
       ".xr-attrs,\n",
       ".xr-var-attrs,\n",
       ".xr-var-data {\n",
       "  grid-column: 1 / -1;\n",
       "}\n",
       "\n",
       "dl.xr-attrs {\n",
       "  padding: 0;\n",
       "  margin: 0;\n",
       "  display: grid;\n",
       "  grid-template-columns: 125px auto;\n",
       "}\n",
       "\n",
       ".xr-attrs dt, dd {\n",
       "  padding: 0;\n",
       "  margin: 0;\n",
       "  float: left;\n",
       "  padding-right: 10px;\n",
       "  width: auto;\n",
       "}\n",
       "\n",
       ".xr-attrs dt {\n",
       "  font-weight: normal;\n",
       "  grid-column: 1;\n",
       "}\n",
       "\n",
       ".xr-attrs dt:hover span {\n",
       "  display: inline-block;\n",
       "  background: var(--xr-background-color);\n",
       "  padding-right: 10px;\n",
       "}\n",
       "\n",
       ".xr-attrs dd {\n",
       "  grid-column: 2;\n",
       "  white-space: pre-wrap;\n",
       "  word-break: break-all;\n",
       "}\n",
       "\n",
       ".xr-icon-database,\n",
       ".xr-icon-file-text2 {\n",
       "  display: inline-block;\n",
       "  vertical-align: middle;\n",
       "  width: 1em;\n",
       "  height: 1.5em !important;\n",
       "  stroke-width: 0;\n",
       "  stroke: currentColor;\n",
       "  fill: currentColor;\n",
       "}\n",
       "</style><pre class='xr-text-repr-fallback'>&lt;xarray.DataArray &#x27;time&#x27; (diag: 23, time: 48)&gt;\n",
       "dask.array&lt;concatenate, shape=(23, 48), dtype=object, chunksize=(1, 1), chunktype=numpy.ndarray&gt;\n",
       "Coordinates:\n",
       "    z_t_150m  float32 dask.array&lt;chunksize=(), meta=np.ndarray&gt;\n",
       "    z_t       float32 dask.array&lt;chunksize=(), meta=np.ndarray&gt;\n",
       "  * time      (time) object 0001-01-16 12:15:50 ... 0004-12-16 12:00:00\n",
       "Dimensions without coordinates: diag\n",
       "Attributes:\n",
       "    long_name:  time\n",
       "    bounds:     time_bound</pre><div class='xr-wrap' hidden><div class='xr-header'><div class='xr-obj-type'>xarray.DataArray</div><div class='xr-array-name'>'time'</div><ul class='xr-dim-list'><li><span>diag</span>: 23</li><li><span class='xr-has-index'>time</span>: 48</li></ul></div><ul class='xr-sections'><li class='xr-section-item'><div class='xr-array-wrap'><input id='section-68faf187-633c-4bfc-a218-b470bb3b05b8' class='xr-array-in' type='checkbox' checked><label for='section-68faf187-633c-4bfc-a218-b470bb3b05b8' title='Show/hide data repr'><svg class='icon xr-icon-database'><use xlink:href='#icon-database'></use></svg></label><div class='xr-array-preview xr-preview'><span>dask.array&lt;chunksize=(1, 1), meta=np.ndarray&gt;</span></div><div class='xr-array-data'><table>\n",
       "<tr>\n",
       "<td>\n",
       "<table>\n",
       "  <thead>\n",
       "    <tr><td> </td><th> Array </th><th> Chunk </th></tr>\n",
       "  </thead>\n",
       "  <tbody>\n",
       "    <tr><th> Bytes </th><td> 8.83 kB </td> <td> 8 B </td></tr>\n",
       "    <tr><th> Shape </th><td> (23, 48) </td> <td> (1, 1) </td></tr>\n",
       "    <tr><th> Count </th><td> 14999 Tasks </td><td> 1104 Chunks </td></tr>\n",
       "    <tr><th> Type </th><td> object </td><td> numpy.ndarray </td></tr>\n",
       "  </tbody>\n",
       "</table>\n",
       "</td>\n",
       "<td>\n",
       "<svg width=\"170\" height=\"107\" style=\"stroke:rgb(0,0,0);stroke-width:1\" >\n",
       "\n",
       "  <!-- Horizontal lines -->\n",
       "  <line x1=\"0\" y1=\"0\" x2=\"120\" y2=\"0\" style=\"stroke-width:2\" />\n",
       "  <line x1=\"0\" y1=\"2\" x2=\"120\" y2=\"2\" />\n",
       "  <line x1=\"0\" y1=\"5\" x2=\"120\" y2=\"5\" />\n",
       "  <line x1=\"0\" y1=\"7\" x2=\"120\" y2=\"7\" />\n",
       "  <line x1=\"0\" y1=\"10\" x2=\"120\" y2=\"10\" />\n",
       "  <line x1=\"0\" y1=\"12\" x2=\"120\" y2=\"12\" />\n",
       "  <line x1=\"0\" y1=\"15\" x2=\"120\" y2=\"15\" />\n",
       "  <line x1=\"0\" y1=\"17\" x2=\"120\" y2=\"17\" />\n",
       "  <line x1=\"0\" y1=\"20\" x2=\"120\" y2=\"20\" />\n",
       "  <line x1=\"0\" y1=\"22\" x2=\"120\" y2=\"22\" />\n",
       "  <line x1=\"0\" y1=\"25\" x2=\"120\" y2=\"25\" />\n",
       "  <line x1=\"0\" y1=\"27\" x2=\"120\" y2=\"27\" />\n",
       "  <line x1=\"0\" y1=\"30\" x2=\"120\" y2=\"30\" />\n",
       "  <line x1=\"0\" y1=\"32\" x2=\"120\" y2=\"32\" />\n",
       "  <line x1=\"0\" y1=\"35\" x2=\"120\" y2=\"35\" />\n",
       "  <line x1=\"0\" y1=\"37\" x2=\"120\" y2=\"37\" />\n",
       "  <line x1=\"0\" y1=\"40\" x2=\"120\" y2=\"40\" />\n",
       "  <line x1=\"0\" y1=\"42\" x2=\"120\" y2=\"42\" />\n",
       "  <line x1=\"0\" y1=\"45\" x2=\"120\" y2=\"45\" />\n",
       "  <line x1=\"0\" y1=\"47\" x2=\"120\" y2=\"47\" />\n",
       "  <line x1=\"0\" y1=\"50\" x2=\"120\" y2=\"50\" />\n",
       "  <line x1=\"0\" y1=\"52\" x2=\"120\" y2=\"52\" />\n",
       "  <line x1=\"0\" y1=\"55\" x2=\"120\" y2=\"55\" />\n",
       "  <line x1=\"0\" y1=\"57\" x2=\"120\" y2=\"57\" style=\"stroke-width:2\" />\n",
       "\n",
       "  <!-- Vertical lines -->\n",
       "  <line x1=\"0\" y1=\"0\" x2=\"0\" y2=\"57\" style=\"stroke-width:2\" />\n",
       "  <line x1=\"2\" y1=\"0\" x2=\"2\" y2=\"57\" />\n",
       "  <line x1=\"5\" y1=\"0\" x2=\"5\" y2=\"57\" />\n",
       "  <line x1=\"7\" y1=\"0\" x2=\"7\" y2=\"57\" />\n",
       "  <line x1=\"10\" y1=\"0\" x2=\"10\" y2=\"57\" />\n",
       "  <line x1=\"12\" y1=\"0\" x2=\"12\" y2=\"57\" />\n",
       "  <line x1=\"15\" y1=\"0\" x2=\"15\" y2=\"57\" />\n",
       "  <line x1=\"17\" y1=\"0\" x2=\"17\" y2=\"57\" />\n",
       "  <line x1=\"20\" y1=\"0\" x2=\"20\" y2=\"57\" />\n",
       "  <line x1=\"22\" y1=\"0\" x2=\"22\" y2=\"57\" />\n",
       "  <line x1=\"25\" y1=\"0\" x2=\"25\" y2=\"57\" />\n",
       "  <line x1=\"27\" y1=\"0\" x2=\"27\" y2=\"57\" />\n",
       "  <line x1=\"30\" y1=\"0\" x2=\"30\" y2=\"57\" />\n",
       "  <line x1=\"32\" y1=\"0\" x2=\"32\" y2=\"57\" />\n",
       "  <line x1=\"35\" y1=\"0\" x2=\"35\" y2=\"57\" />\n",
       "  <line x1=\"37\" y1=\"0\" x2=\"37\" y2=\"57\" />\n",
       "  <line x1=\"40\" y1=\"0\" x2=\"40\" y2=\"57\" />\n",
       "  <line x1=\"42\" y1=\"0\" x2=\"42\" y2=\"57\" />\n",
       "  <line x1=\"45\" y1=\"0\" x2=\"45\" y2=\"57\" />\n",
       "  <line x1=\"47\" y1=\"0\" x2=\"47\" y2=\"57\" />\n",
       "  <line x1=\"50\" y1=\"0\" x2=\"50\" y2=\"57\" />\n",
       "  <line x1=\"52\" y1=\"0\" x2=\"52\" y2=\"57\" />\n",
       "  <line x1=\"55\" y1=\"0\" x2=\"55\" y2=\"57\" />\n",
       "  <line x1=\"57\" y1=\"0\" x2=\"57\" y2=\"57\" />\n",
       "  <line x1=\"60\" y1=\"0\" x2=\"60\" y2=\"57\" />\n",
       "  <line x1=\"62\" y1=\"0\" x2=\"62\" y2=\"57\" />\n",
       "  <line x1=\"65\" y1=\"0\" x2=\"65\" y2=\"57\" />\n",
       "  <line x1=\"67\" y1=\"0\" x2=\"67\" y2=\"57\" />\n",
       "  <line x1=\"70\" y1=\"0\" x2=\"70\" y2=\"57\" />\n",
       "  <line x1=\"72\" y1=\"0\" x2=\"72\" y2=\"57\" />\n",
       "  <line x1=\"75\" y1=\"0\" x2=\"75\" y2=\"57\" />\n",
       "  <line x1=\"77\" y1=\"0\" x2=\"77\" y2=\"57\" />\n",
       "  <line x1=\"80\" y1=\"0\" x2=\"80\" y2=\"57\" />\n",
       "  <line x1=\"82\" y1=\"0\" x2=\"82\" y2=\"57\" />\n",
       "  <line x1=\"85\" y1=\"0\" x2=\"85\" y2=\"57\" />\n",
       "  <line x1=\"87\" y1=\"0\" x2=\"87\" y2=\"57\" />\n",
       "  <line x1=\"90\" y1=\"0\" x2=\"90\" y2=\"57\" />\n",
       "  <line x1=\"92\" y1=\"0\" x2=\"92\" y2=\"57\" />\n",
       "  <line x1=\"95\" y1=\"0\" x2=\"95\" y2=\"57\" />\n",
       "  <line x1=\"97\" y1=\"0\" x2=\"97\" y2=\"57\" />\n",
       "  <line x1=\"100\" y1=\"0\" x2=\"100\" y2=\"57\" />\n",
       "  <line x1=\"102\" y1=\"0\" x2=\"102\" y2=\"57\" />\n",
       "  <line x1=\"105\" y1=\"0\" x2=\"105\" y2=\"57\" />\n",
       "  <line x1=\"107\" y1=\"0\" x2=\"107\" y2=\"57\" />\n",
       "  <line x1=\"110\" y1=\"0\" x2=\"110\" y2=\"57\" />\n",
       "  <line x1=\"112\" y1=\"0\" x2=\"112\" y2=\"57\" />\n",
       "  <line x1=\"115\" y1=\"0\" x2=\"115\" y2=\"57\" />\n",
       "  <line x1=\"117\" y1=\"0\" x2=\"117\" y2=\"57\" />\n",
       "  <line x1=\"120\" y1=\"0\" x2=\"120\" y2=\"57\" style=\"stroke-width:2\" />\n",
       "\n",
       "  <!-- Colored Rectangle -->\n",
       "  <polygon points=\"0.000000,0.000000 120.000000,0.000000 120.000000,57.500000 0.000000,57.500000\" style=\"fill:#ECB172A0;stroke-width:0\"/>\n",
       "\n",
       "  <!-- Text -->\n",
       "  <text x=\"60.000000\" y=\"77.500000\" font-size=\"1.0rem\" font-weight=\"100\" text-anchor=\"middle\" >48</text>\n",
       "  <text x=\"140.000000\" y=\"28.750000\" font-size=\"1.0rem\" font-weight=\"100\" text-anchor=\"middle\" transform=\"rotate(0,140.000000,28.750000)\">23</text>\n",
       "</svg>\n",
       "</td>\n",
       "</tr>\n",
       "</table></div></div></li><li class='xr-section-item'><input id='section-6cf2a332-9342-405e-b888-022fdb39e2d9' class='xr-section-summary-in' type='checkbox'  checked><label for='section-6cf2a332-9342-405e-b888-022fdb39e2d9' class='xr-section-summary' >Coordinates: <span>(3)</span></label><div class='xr-section-inline-details'></div><div class='xr-section-details'><ul class='xr-var-list'><li class='xr-var-item'><div class='xr-var-name'><span>z_t_150m</span></div><div class='xr-var-dims'>()</div><div class='xr-var-dtype'>float32</div><div class='xr-var-preview xr-preview'>dask.array&lt;chunksize=(), meta=np.ndarray&gt;</div><input id='attrs-a825a049-21d7-46f6-b364-ba04b744918e' class='xr-var-attrs-in' type='checkbox' ><label for='attrs-a825a049-21d7-46f6-b364-ba04b744918e' title='Show/Hide attributes'><svg class='icon xr-icon-file-text2'><use xlink:href='#icon-file-text2'></use></svg></label><input id='data-7ed4a8c0-4187-4bf0-8afd-943a3dfa7d09' class='xr-var-data-in' type='checkbox'><label for='data-7ed4a8c0-4187-4bf0-8afd-943a3dfa7d09' title='Show/Hide data repr'><svg class='icon xr-icon-database'><use xlink:href='#icon-database'></use></svg></label><div class='xr-var-attrs'><dl class='xr-attrs'><dt><span>long_name :</span></dt><dd>depth from surface to midpoint of layer</dd><dt><span>units :</span></dt><dd>centimeters</dd><dt><span>positive :</span></dt><dd>down</dd><dt><span>valid_min :</span></dt><dd>500.0</dd><dt><span>valid_max :</span></dt><dd>14500.0</dd></dl></div><div class='xr-var-data'><table>\n",
       "<tr>\n",
       "<td>\n",
       "<table>\n",
       "  <thead>\n",
       "    <tr><td> </td><th> Array </th><th> Chunk </th></tr>\n",
       "  </thead>\n",
       "  <tbody>\n",
       "    <tr><th> Bytes </th><td> 4 B </td> <td> 4 B </td></tr>\n",
       "    <tr><th> Shape </th><td> () </td> <td> () </td></tr>\n",
       "    <tr><th> Count </th><td> 637 Tasks </td><td> 1 Chunks </td></tr>\n",
       "    <tr><th> Type </th><td> float32 </td><td> numpy.ndarray </td></tr>\n",
       "  </tbody>\n",
       "</table>\n",
       "</td>\n",
       "<td>\n",
       "\n",
       "</td>\n",
       "</tr>\n",
       "</table></div></li><li class='xr-var-item'><div class='xr-var-name'><span>z_t</span></div><div class='xr-var-dims'>()</div><div class='xr-var-dtype'>float32</div><div class='xr-var-preview xr-preview'>dask.array&lt;chunksize=(), meta=np.ndarray&gt;</div><input id='attrs-3ca62e09-78ba-45ad-8160-39ff394ce65a' class='xr-var-attrs-in' type='checkbox' ><label for='attrs-3ca62e09-78ba-45ad-8160-39ff394ce65a' title='Show/Hide attributes'><svg class='icon xr-icon-file-text2'><use xlink:href='#icon-file-text2'></use></svg></label><input id='data-46405d70-d3a1-4e33-9e51-08d6aec9a761' class='xr-var-data-in' type='checkbox'><label for='data-46405d70-d3a1-4e33-9e51-08d6aec9a761' title='Show/Hide data repr'><svg class='icon xr-icon-database'><use xlink:href='#icon-database'></use></svg></label><div class='xr-var-attrs'><dl class='xr-attrs'><dt><span>long_name :</span></dt><dd>depth from surface to midpoint of layer</dd><dt><span>units :</span></dt><dd>centimeters</dd><dt><span>positive :</span></dt><dd>down</dd><dt><span>valid_min :</span></dt><dd>500.0</dd><dt><span>valid_max :</span></dt><dd>587499.06</dd></dl></div><div class='xr-var-data'><table>\n",
       "<tr>\n",
       "<td>\n",
       "<table>\n",
       "  <thead>\n",
       "    <tr><td> </td><th> Array </th><th> Chunk </th></tr>\n",
       "  </thead>\n",
       "  <tbody>\n",
       "    <tr><th> Bytes </th><td> 4 B </td> <td> 4 B </td></tr>\n",
       "    <tr><th> Shape </th><td> () </td> <td> () </td></tr>\n",
       "    <tr><th> Count </th><td> 637 Tasks </td><td> 1 Chunks </td></tr>\n",
       "    <tr><th> Type </th><td> float32 </td><td> numpy.ndarray </td></tr>\n",
       "  </tbody>\n",
       "</table>\n",
       "</td>\n",
       "<td>\n",
       "\n",
       "</td>\n",
       "</tr>\n",
       "</table></div></li><li class='xr-var-item'><div class='xr-var-name'><span class='xr-has-index'>time</span></div><div class='xr-var-dims'>(time)</div><div class='xr-var-dtype'>object</div><div class='xr-var-preview xr-preview'>0001-01-16 12:15:50 ... 0004-12-...</div><input id='attrs-d3830275-d146-4502-be9a-d8a765aabc70' class='xr-var-attrs-in' type='checkbox' ><label for='attrs-d3830275-d146-4502-be9a-d8a765aabc70' title='Show/Hide attributes'><svg class='icon xr-icon-file-text2'><use xlink:href='#icon-file-text2'></use></svg></label><input id='data-ea87899d-743f-4218-9d33-3598c52e6270' class='xr-var-data-in' type='checkbox'><label for='data-ea87899d-743f-4218-9d33-3598c52e6270' title='Show/Hide data repr'><svg class='icon xr-icon-database'><use xlink:href='#icon-database'></use></svg></label><div class='xr-var-attrs'><dl class='xr-attrs'><dt><span>long_name :</span></dt><dd>time</dd><dt><span>bounds :</span></dt><dd>time_bound</dd></dl></div><div class='xr-var-data'><pre>array([cftime.DatetimeNoLeap(1, 1, 16, 12, 15, 50, 0),\n",
       "       cftime.DatetimeNoLeap(1, 2, 15, 0, 0, 0, 0),\n",
       "       cftime.DatetimeNoLeap(1, 3, 16, 12, 0, 0, 0),\n",
       "       cftime.DatetimeNoLeap(1, 4, 16, 0, 0, 0, 0),\n",
       "       cftime.DatetimeNoLeap(1, 5, 16, 12, 0, 0, 0),\n",
       "       cftime.DatetimeNoLeap(1, 6, 16, 0, 0, 0, 0),\n",
       "       cftime.DatetimeNoLeap(1, 7, 16, 12, 0, 0, 0),\n",
       "       cftime.DatetimeNoLeap(1, 8, 16, 12, 0, 0, 0),\n",
       "       cftime.DatetimeNoLeap(1, 9, 16, 0, 0, 0, 0),\n",
       "       cftime.DatetimeNoLeap(1, 10, 16, 12, 0, 0, 0),\n",
       "       cftime.DatetimeNoLeap(1, 11, 16, 0, 0, 0, 0),\n",
       "       cftime.DatetimeNoLeap(1, 12, 16, 12, 0, 0, 0),\n",
       "       cftime.DatetimeNoLeap(2, 1, 16, 12, 0, 0, 0),\n",
       "       cftime.DatetimeNoLeap(2, 2, 15, 0, 0, 0, 0),\n",
       "       cftime.DatetimeNoLeap(2, 3, 16, 12, 0, 0, 0),\n",
       "       cftime.DatetimeNoLeap(2, 4, 16, 0, 0, 0, 0),\n",
       "       cftime.DatetimeNoLeap(2, 5, 16, 12, 0, 0, 0),\n",
       "       cftime.DatetimeNoLeap(2, 6, 16, 0, 0, 0, 0),\n",
       "       cftime.DatetimeNoLeap(2, 7, 16, 12, 0, 0, 0),\n",
       "       cftime.DatetimeNoLeap(2, 8, 16, 12, 0, 0, 0),\n",
       "       cftime.DatetimeNoLeap(2, 9, 16, 0, 0, 0, 0),\n",
       "       cftime.DatetimeNoLeap(2, 10, 16, 12, 0, 0, 0),\n",
       "       cftime.DatetimeNoLeap(2, 11, 16, 0, 0, 0, 0),\n",
       "       cftime.DatetimeNoLeap(2, 12, 16, 12, 0, 0, 0),\n",
       "       cftime.DatetimeNoLeap(3, 1, 16, 12, 0, 0, 0),\n",
       "       cftime.DatetimeNoLeap(3, 2, 15, 0, 0, 0, 0),\n",
       "       cftime.DatetimeNoLeap(3, 3, 16, 12, 0, 0, 0),\n",
       "       cftime.DatetimeNoLeap(3, 4, 16, 0, 0, 0, 0),\n",
       "       cftime.DatetimeNoLeap(3, 5, 16, 12, 0, 0, 0),\n",
       "       cftime.DatetimeNoLeap(3, 6, 16, 0, 0, 0, 0),\n",
       "       cftime.DatetimeNoLeap(3, 7, 16, 12, 0, 0, 0),\n",
       "       cftime.DatetimeNoLeap(3, 8, 16, 12, 0, 0, 0),\n",
       "       cftime.DatetimeNoLeap(3, 9, 16, 0, 0, 0, 0),\n",
       "       cftime.DatetimeNoLeap(3, 10, 16, 12, 0, 0, 0),\n",
       "       cftime.DatetimeNoLeap(3, 11, 16, 0, 0, 0, 0),\n",
       "       cftime.DatetimeNoLeap(3, 12, 16, 12, 0, 0, 0),\n",
       "       cftime.DatetimeNoLeap(4, 1, 16, 12, 0, 0, 0),\n",
       "       cftime.DatetimeNoLeap(4, 2, 15, 0, 0, 0, 0),\n",
       "       cftime.DatetimeNoLeap(4, 3, 16, 12, 0, 0, 0),\n",
       "       cftime.DatetimeNoLeap(4, 4, 16, 0, 0, 0, 0),\n",
       "       cftime.DatetimeNoLeap(4, 5, 16, 12, 0, 0, 0),\n",
       "       cftime.DatetimeNoLeap(4, 6, 16, 0, 0, 0, 0),\n",
       "       cftime.DatetimeNoLeap(4, 7, 16, 12, 0, 0, 0),\n",
       "       cftime.DatetimeNoLeap(4, 8, 16, 12, 0, 0, 0),\n",
       "       cftime.DatetimeNoLeap(4, 9, 16, 0, 0, 0, 0),\n",
       "       cftime.DatetimeNoLeap(4, 10, 16, 12, 0, 0, 0),\n",
       "       cftime.DatetimeNoLeap(4, 11, 16, 0, 0, 0, 0),\n",
       "       cftime.DatetimeNoLeap(4, 12, 16, 12, 0, 0, 0)], dtype=object)</pre></div></li></ul></div></li><li class='xr-section-item'><input id='section-430bb65a-498e-4545-a41c-e196982ca50b' class='xr-section-summary-in' type='checkbox'  checked><label for='section-430bb65a-498e-4545-a41c-e196982ca50b' class='xr-section-summary' >Attributes: <span>(2)</span></label><div class='xr-section-inline-details'></div><div class='xr-section-details'><dl class='xr-attrs'><dt><span>long_name :</span></dt><dd>time</dd><dt><span>bounds :</span></dt><dd>time_bound</dd></dl></div></li></ul></div></div>"
      ],
      "text/plain": [
       "<xarray.DataArray 'time' (diag: 23, time: 48)>\n",
       "dask.array<concatenate, shape=(23, 48), dtype=object, chunksize=(1, 1), chunktype=numpy.ndarray>\n",
       "Coordinates:\n",
       "    z_t_150m  float32 dask.array<chunksize=(), meta=np.ndarray>\n",
       "    z_t       float32 dask.array<chunksize=(), meta=np.ndarray>\n",
       "  * time      (time) object 0001-01-16 12:15:50 ... 0004-12-16 12:00:00\n",
       "Dimensions without coordinates: diag\n",
       "Attributes:\n",
       "    long_name:  time\n",
       "    bounds:     time_bound"
      ]
     },
     "execution_count": 8,
     "metadata": {},
     "output_type": "execute_result"
    }
   ],
   "source": [
    "plots = xr.concat(plots, dim=\"diag\", compat=\"override\", coords=\"minimal\")\n",
    "plots"
   ]
  },
  {
   "cell_type": "code",
   "execution_count": 31,
   "metadata": {},
   "outputs": [
    {
     "data": {
      "text/html": [
       "<b>Future: finalize</b> <font color=\"gray\">status: </font><font color=\"black\">pending</font>, <font color=\"gray\">key: </font>finalize-3ee61c0fe262937b8bb9dd9a6dc8720c"
      ],
      "text/plain": [
       "<Future: pending, key: finalize-3ee61c0fe262937b8bb9dd9a6dc8720c>"
      ]
     },
     "execution_count": 31,
     "metadata": {},
     "output_type": "execute_result"
    }
   ],
   "source": [
    "client.compute(plots, retries=2)"
   ]
  },
  {
   "cell_type": "code",
   "execution_count": null,
   "metadata": {},
   "outputs": [],
   "source": []
  }
 ],
 "metadata": {
  "kernelspec": {
   "display_name": "Python 3",
   "language": "python",
   "name": "python3"
  },
  "language_info": {
   "codemirror_mode": {
    "name": "ipython",
    "version": 3
   },
   "file_extension": ".py",
   "mimetype": "text/x-python",
   "name": "python",
   "nbconvert_exporter": "python",
   "pygments_lexer": "ipython3",
   "version": "3.7.8"
  },
  "widgets": {
   "application/vnd.jupyter.widget-state+json": {
    "state": {
     "00439b5e30794cb9b0af873a74998a85": {
      "model_module": "@jupyter-widgets/controls",
      "model_module_version": "1.5.0",
      "model_name": "DescriptionStyleModel",
      "state": {
       "description_width": ""
      }
     },
     "010829546cc34dee8b02808ab5172d31": {
      "model_module": "@jupyter-widgets/controls",
      "model_module_version": "1.5.0",
      "model_name": "DescriptionStyleModel",
      "state": {
       "description_width": ""
      }
     },
     "0b7693b465ac4f0596fb419d799cee5c": {
      "model_module": "@jupyter-widgets/controls",
      "model_module_version": "1.5.0",
      "model_name": "HBoxModel",
      "state": {
       "children": [
        "IPY_MODEL_c79e96cb892d4ed284e1292dc9edd7c8",
        "IPY_MODEL_75a24d6bb7024668b796bf9804be9a1b"
       ],
       "layout": "IPY_MODEL_6bb6d81d911c4dbeb3cfe3906cfd0a76"
      }
     },
     "11e09b26921740f8bba093caedf06eb1": {
      "model_module": "@jupyter-widgets/controls",
      "model_module_version": "1.5.0",
      "model_name": "HBoxModel",
      "state": {
       "children": [
        "IPY_MODEL_61f4eda581cd4f3cab74b8a7f768927c",
        "IPY_MODEL_f482ddb93c28439397ee1d968b49d1c9"
       ],
       "layout": "IPY_MODEL_db63dba70a304a70b3053045fb40c928"
      }
     },
     "1555260b2c30437889835f227e3a7fa1": {
      "model_module": "@jupyter-widgets/controls",
      "model_module_version": "1.5.0",
      "model_name": "VBoxModel",
      "state": {
       "children": [
        "IPY_MODEL_f7ba2b75d87a4807a1329893e4d18985",
        "IPY_MODEL_94bda1654a574dd8ab1ada5cca027f26",
        "IPY_MODEL_cba6e68cada3483fbf652988f6271525"
       ],
       "layout": "IPY_MODEL_e1d1f203d7884812ac0f35a423dde779"
      }
     },
     "17879b0d04884c56905a0b42f7e9e193": {
      "model_module": "@jupyter-widgets/base",
      "model_module_version": "1.2.0",
      "model_name": "LayoutModel",
      "state": {
       "min_width": "150px"
      }
     },
     "180ee4fc5e3246639d1c7b8b70d62f46": {
      "model_module": "@jupyter-widgets/controls",
      "model_module_version": "1.5.0",
      "model_name": "AccordionModel",
      "state": {
       "_titles": {
        "0": "Manual Scaling",
        "1": "Adaptive Scaling"
       },
       "children": [
        "IPY_MODEL_ba6d484f65e64963b3eacb6962ad6ba6",
        "IPY_MODEL_2864a12c681a435fbd617f696da2f69a"
       ],
       "layout": "IPY_MODEL_99f42eb03eda4ad7bc3548180177376f"
      }
     },
     "237cae2483574dd9b4d3c1ec6b415d26": {
      "model_module": "@jupyter-widgets/controls",
      "model_module_version": "1.5.0",
      "model_name": "IntTextModel",
      "state": {
       "description": "Minimum",
       "layout": "IPY_MODEL_4af1479ba94e4ff9a2e50193d9ad1191",
       "step": 1,
       "style": "IPY_MODEL_9a5a10b9fe244e1f8a1eba998382ea17"
      }
     },
     "2864a12c681a435fbd617f696da2f69a": {
      "model_module": "@jupyter-widgets/controls",
      "model_module_version": "1.5.0",
      "model_name": "HBoxModel",
      "state": {
       "children": [
        "IPY_MODEL_382b8bc257bf420fbec174ece42d246e",
        "IPY_MODEL_f3847d2441ef4a548f12268bcd958d15",
        "IPY_MODEL_d0ba9f8168ce419a8ee8f57a3945ebd8"
       ],
       "layout": "IPY_MODEL_df643de24014419388108d4ff1e99cd9"
      }
     },
     "312807c23c8c49019e7ee7fdbb2a1af1": {
      "model_module": "@jupyter-widgets/base",
      "model_module_version": "1.2.0",
      "model_name": "LayoutModel",
      "state": {}
     },
     "34b1a5e4457845ebaddc672b4330fdb8": {
      "model_module": "@jupyter-widgets/controls",
      "model_module_version": "1.5.0",
      "model_name": "DescriptionStyleModel",
      "state": {
       "description_width": ""
      }
     },
     "365c64518f3f44339feec1f7b6ac65a9": {
      "model_module": "@jupyter-widgets/controls",
      "model_module_version": "1.5.0",
      "model_name": "ButtonModel",
      "state": {
       "description": "Scale",
       "layout": "IPY_MODEL_f6a6e9228e974708a22d4ffbacc88768",
       "style": "IPY_MODEL_898ad07830ef40afa3ae2738d211dda5"
      }
     },
     "382b8bc257bf420fbec174ece42d246e": {
      "model_module": "@jupyter-widgets/controls",
      "model_module_version": "1.5.0",
      "model_name": "IntTextModel",
      "state": {
       "description": "Minimum",
       "layout": "IPY_MODEL_f6a6e9228e974708a22d4ffbacc88768",
       "step": 1,
       "style": "IPY_MODEL_441cc31e9a674411815bf57908b339ca"
      }
     },
     "3b9a471777ed4991a54a710f2aaffc10": {
      "model_module": "@jupyter-widgets/controls",
      "model_module_version": "1.5.0",
      "model_name": "VBoxModel",
      "state": {
       "children": [
        "IPY_MODEL_ef7d904e85594a64aef5f480dd3e2b92",
        "IPY_MODEL_0b7693b465ac4f0596fb419d799cee5c",
        "IPY_MODEL_a270ba7a4ed847a6823300bfd9061df6"
       ],
       "layout": "IPY_MODEL_912e82598dfd4baebb0a10a9e8b91a94"
      }
     },
     "3ee010498f57479ebbb58da3cc1ac9af": {
      "model_module": "@jupyter-widgets/controls",
      "model_module_version": "1.5.0",
      "model_name": "DescriptionStyleModel",
      "state": {
       "description_width": ""
      }
     },
     "4122a7b02bda4ab4b84116dde6e42243": {
      "model_module": "@jupyter-widgets/controls",
      "model_module_version": "1.5.0",
      "model_name": "ButtonStyleModel",
      "state": {}
     },
     "441cc31e9a674411815bf57908b339ca": {
      "model_module": "@jupyter-widgets/controls",
      "model_module_version": "1.5.0",
      "model_name": "DescriptionStyleModel",
      "state": {
       "description_width": ""
      }
     },
     "497c73a0cd5c4f249271c7f75b7282d5": {
      "model_module": "@jupyter-widgets/controls",
      "model_module_version": "1.5.0",
      "model_name": "ButtonStyleModel",
      "state": {}
     },
     "4af1479ba94e4ff9a2e50193d9ad1191": {
      "model_module": "@jupyter-widgets/base",
      "model_module_version": "1.2.0",
      "model_name": "LayoutModel",
      "state": {
       "width": "150px"
      }
     },
     "573a74289c0f4c1eb41652034bc22629": {
      "model_module": "@jupyter-widgets/base",
      "model_module_version": "1.2.0",
      "model_name": "LayoutModel",
      "state": {}
     },
     "5d47f1280c244f0483013572142b283d": {
      "model_module": "@jupyter-widgets/controls",
      "model_module_version": "1.5.0",
      "model_name": "ButtonModel",
      "state": {
       "description": "Adapt",
       "layout": "IPY_MODEL_4af1479ba94e4ff9a2e50193d9ad1191",
       "style": "IPY_MODEL_4122a7b02bda4ab4b84116dde6e42243"
      }
     },
     "61f4eda581cd4f3cab74b8a7f768927c": {
      "model_module": "@jupyter-widgets/controls",
      "model_module_version": "1.5.0",
      "model_name": "IntTextModel",
      "state": {
       "description": "Workers",
       "layout": "IPY_MODEL_4af1479ba94e4ff9a2e50193d9ad1191",
       "step": 1,
       "style": "IPY_MODEL_903fa9fa502a4e4fa25af7c71b924a63"
      }
     },
     "69f8cd334c214676b6e74865998ddda9": {
      "model_module": "@jupyter-widgets/base",
      "model_module_version": "1.2.0",
      "model_name": "LayoutModel",
      "state": {
       "min_width": "500px"
      }
     },
     "6bb6d81d911c4dbeb3cfe3906cfd0a76": {
      "model_module": "@jupyter-widgets/base",
      "model_module_version": "1.2.0",
      "model_name": "LayoutModel",
      "state": {}
     },
     "72ba683a499b4defab5e2002253f1cc9": {
      "model_module": "@jupyter-widgets/base",
      "model_module_version": "1.2.0",
      "model_name": "LayoutModel",
      "state": {}
     },
     "72ff984bc9aa4aaea64507b2eb8a84ea": {
      "model_module": "@jupyter-widgets/controls",
      "model_module_version": "1.5.0",
      "model_name": "DescriptionStyleModel",
      "state": {
       "description_width": ""
      }
     },
     "75a24d6bb7024668b796bf9804be9a1b": {
      "model_module": "@jupyter-widgets/controls",
      "model_module_version": "1.5.0",
      "model_name": "AccordionModel",
      "state": {
       "_titles": {
        "0": "Manual Scaling",
        "1": "Adaptive Scaling"
       },
       "children": [
        "IPY_MODEL_11e09b26921740f8bba093caedf06eb1",
        "IPY_MODEL_cae3f049bf5e47868a440d2325e81641"
       ],
       "layout": "IPY_MODEL_69f8cd334c214676b6e74865998ddda9",
       "selected_index": null
      }
     },
     "79063c84b14948b787756dca1b275973": {
      "model_module": "@jupyter-widgets/controls",
      "model_module_version": "1.5.0",
      "model_name": "DescriptionStyleModel",
      "state": {
       "description_width": ""
      }
     },
     "79e0cfff8ff54edebdf10f6916e1401a": {
      "model_module": "@jupyter-widgets/controls",
      "model_module_version": "1.5.0",
      "model_name": "DescriptionStyleModel",
      "state": {
       "description_width": ""
      }
     },
     "8423769c922541d2bea573f50c80edb6": {
      "model_module": "@jupyter-widgets/controls",
      "model_module_version": "1.5.0",
      "model_name": "ButtonStyleModel",
      "state": {}
     },
     "85aff46e32b347bea9c7636129c1daf7": {
      "model_module": "@jupyter-widgets/base",
      "model_module_version": "1.2.0",
      "model_name": "LayoutModel",
      "state": {}
     },
     "898ad07830ef40afa3ae2738d211dda5": {
      "model_module": "@jupyter-widgets/controls",
      "model_module_version": "1.5.0",
      "model_name": "ButtonStyleModel",
      "state": {}
     },
     "903fa9fa502a4e4fa25af7c71b924a63": {
      "model_module": "@jupyter-widgets/controls",
      "model_module_version": "1.5.0",
      "model_name": "DescriptionStyleModel",
      "state": {
       "description_width": ""
      }
     },
     "912e82598dfd4baebb0a10a9e8b91a94": {
      "model_module": "@jupyter-widgets/base",
      "model_module_version": "1.2.0",
      "model_name": "LayoutModel",
      "state": {}
     },
     "92f4af4d7398438fbbcb2655ad9de3a8": {
      "model_module": "@jupyter-widgets/controls",
      "model_module_version": "1.5.0",
      "model_name": "DescriptionStyleModel",
      "state": {
       "description_width": ""
      }
     },
     "94bda1654a574dd8ab1ada5cca027f26": {
      "model_module": "@jupyter-widgets/controls",
      "model_module_version": "1.5.0",
      "model_name": "HBoxModel",
      "state": {
       "children": [
        "IPY_MODEL_a93e733874504402b1b474c69c707f94",
        "IPY_MODEL_180ee4fc5e3246639d1c7b8b70d62f46"
       ],
       "layout": "IPY_MODEL_85aff46e32b347bea9c7636129c1daf7"
      }
     },
     "99f42eb03eda4ad7bc3548180177376f": {
      "model_module": "@jupyter-widgets/base",
      "model_module_version": "1.2.0",
      "model_name": "LayoutModel",
      "state": {
       "min_width": "500px"
      }
     },
     "9a5a10b9fe244e1f8a1eba998382ea17": {
      "model_module": "@jupyter-widgets/controls",
      "model_module_version": "1.5.0",
      "model_name": "DescriptionStyleModel",
      "state": {
       "description_width": ""
      }
     },
     "a270ba7a4ed847a6823300bfd9061df6": {
      "model_module": "@jupyter-widgets/controls",
      "model_module_version": "1.5.0",
      "model_name": "HTMLModel",
      "state": {
       "layout": "IPY_MODEL_573a74289c0f4c1eb41652034bc22629",
       "style": "IPY_MODEL_3ee010498f57479ebbb58da3cc1ac9af",
       "value": "<p><b>Dashboard: </b><a href=\"/proxy/8787/status\" target=\"_blank\">/proxy/8787/status</a></p>\n"
      }
     },
     "a9325678060f437f9ac492582c23cb4e": {
      "model_module": "@jupyter-widgets/base",
      "model_module_version": "1.2.0",
      "model_name": "LayoutModel",
      "state": {}
     },
     "a93e733874504402b1b474c69c707f94": {
      "model_module": "@jupyter-widgets/controls",
      "model_module_version": "1.5.0",
      "model_name": "HTMLModel",
      "state": {
       "layout": "IPY_MODEL_d6ad82c503394eb6a63e00184d43379e",
       "style": "IPY_MODEL_92f4af4d7398438fbbcb2655ad9de3a8",
       "value": "\n<div>\n  <style scoped>\n    .dataframe tbody tr th:only-of-type {\n        vertical-align: middle;\n    }\n\n    .dataframe tbody tr th {\n        vertical-align: top;\n    }\n\n    .dataframe thead th {\n        text-align: right;\n    }\n  </style>\n  <table style=\"text-align: right;\">\n    <tr> <th>Workers</th> <td>32 / 35</td></tr>\n    <tr> <th>Cores</th> <td>32</td></tr>\n    <tr> <th>Memory</th> <td>320.00 GB</td></tr>\n  </table>\n</div>\n"
      }
     },
     "ba6d484f65e64963b3eacb6962ad6ba6": {
      "model_module": "@jupyter-widgets/controls",
      "model_module_version": "1.5.0",
      "model_name": "HBoxModel",
      "state": {
       "children": [
        "IPY_MODEL_d5f513e5abe144d3bcdb559979cba653",
        "IPY_MODEL_365c64518f3f44339feec1f7b6ac65a9"
       ],
       "layout": "IPY_MODEL_72ba683a499b4defab5e2002253f1cc9"
      }
     },
     "c70c0ce39ccf480fbd341061b2c6e44e": {
      "model_module": "@jupyter-widgets/controls",
      "model_module_version": "1.5.0",
      "model_name": "IntTextModel",
      "state": {
       "description": "Maximum",
       "layout": "IPY_MODEL_4af1479ba94e4ff9a2e50193d9ad1191",
       "step": 1,
       "style": "IPY_MODEL_34b1a5e4457845ebaddc672b4330fdb8"
      }
     },
     "c79e96cb892d4ed284e1292dc9edd7c8": {
      "model_module": "@jupyter-widgets/controls",
      "model_module_version": "1.5.0",
      "model_name": "HTMLModel",
      "state": {
       "layout": "IPY_MODEL_17879b0d04884c56905a0b42f7e9e193",
       "style": "IPY_MODEL_72ff984bc9aa4aaea64507b2eb8a84ea",
       "value": "\n<div>\n  <style scoped>\n    .dataframe tbody tr th:only-of-type {\n        vertical-align: middle;\n    }\n\n    .dataframe tbody tr th {\n        vertical-align: top;\n    }\n\n    .dataframe thead th {\n        text-align: right;\n    }\n  </style>\n  <table style=\"text-align: right;\">\n    <tr> <th>Workers</th> <td>34</td></tr>\n    <tr> <th>Cores</th> <td>34</td></tr>\n    <tr> <th>Memory</th> <td>340.00 GB</td></tr>\n  </table>\n</div>\n"
      }
     },
     "cae3f049bf5e47868a440d2325e81641": {
      "model_module": "@jupyter-widgets/controls",
      "model_module_version": "1.5.0",
      "model_name": "HBoxModel",
      "state": {
       "children": [
        "IPY_MODEL_237cae2483574dd9b4d3c1ec6b415d26",
        "IPY_MODEL_c70c0ce39ccf480fbd341061b2c6e44e",
        "IPY_MODEL_5d47f1280c244f0483013572142b283d"
       ],
       "layout": "IPY_MODEL_f97d0fb189974680842c3fa2f7e25bdf"
      }
     },
     "cba6e68cada3483fbf652988f6271525": {
      "model_module": "@jupyter-widgets/controls",
      "model_module_version": "1.5.0",
      "model_name": "HTMLModel",
      "state": {
       "layout": "IPY_MODEL_312807c23c8c49019e7ee7fdbb2a1af1",
       "style": "IPY_MODEL_79e0cfff8ff54edebdf10f6916e1401a",
       "value": "<p><b>Dashboard: </b><a href=\"/proxy/8787/status\" target=\"_blank\">/proxy/8787/status</a></p>\n"
      }
     },
     "d0ba9f8168ce419a8ee8f57a3945ebd8": {
      "model_module": "@jupyter-widgets/controls",
      "model_module_version": "1.5.0",
      "model_name": "ButtonModel",
      "state": {
       "description": "Adapt",
       "layout": "IPY_MODEL_f6a6e9228e974708a22d4ffbacc88768",
       "style": "IPY_MODEL_497c73a0cd5c4f249271c7f75b7282d5"
      }
     },
     "d5f513e5abe144d3bcdb559979cba653": {
      "model_module": "@jupyter-widgets/controls",
      "model_module_version": "1.5.0",
      "model_name": "IntTextModel",
      "state": {
       "description": "Workers",
       "layout": "IPY_MODEL_f6a6e9228e974708a22d4ffbacc88768",
       "step": 1,
       "style": "IPY_MODEL_00439b5e30794cb9b0af873a74998a85",
       "value": 35
      }
     },
     "d6ad82c503394eb6a63e00184d43379e": {
      "model_module": "@jupyter-widgets/base",
      "model_module_version": "1.2.0",
      "model_name": "LayoutModel",
      "state": {
       "min_width": "150px"
      }
     },
     "db63dba70a304a70b3053045fb40c928": {
      "model_module": "@jupyter-widgets/base",
      "model_module_version": "1.2.0",
      "model_name": "LayoutModel",
      "state": {}
     },
     "df643de24014419388108d4ff1e99cd9": {
      "model_module": "@jupyter-widgets/base",
      "model_module_version": "1.2.0",
      "model_name": "LayoutModel",
      "state": {}
     },
     "e1d1f203d7884812ac0f35a423dde779": {
      "model_module": "@jupyter-widgets/base",
      "model_module_version": "1.2.0",
      "model_name": "LayoutModel",
      "state": {}
     },
     "e3a153e55b4042d4b85204d822becfc6": {
      "model_module": "@jupyter-widgets/base",
      "model_module_version": "1.2.0",
      "model_name": "LayoutModel",
      "state": {}
     },
     "eb59c36004974c6b8ee8b8c0a242441e": {
      "model_module": "@jupyter-widgets/controls",
      "model_module_version": "1.5.0",
      "model_name": "DescriptionStyleModel",
      "state": {
       "description_width": ""
      }
     },
     "ef7d904e85594a64aef5f480dd3e2b92": {
      "model_module": "@jupyter-widgets/controls",
      "model_module_version": "1.5.0",
      "model_name": "HTMLModel",
      "state": {
       "layout": "IPY_MODEL_a9325678060f437f9ac492582c23cb4e",
       "style": "IPY_MODEL_010829546cc34dee8b02808ab5172d31",
       "value": "<h2>SLURMCluster</h2>"
      }
     },
     "f3847d2441ef4a548f12268bcd958d15": {
      "model_module": "@jupyter-widgets/controls",
      "model_module_version": "1.5.0",
      "model_name": "IntTextModel",
      "state": {
       "description": "Maximum",
       "layout": "IPY_MODEL_f6a6e9228e974708a22d4ffbacc88768",
       "step": 1,
       "style": "IPY_MODEL_79063c84b14948b787756dca1b275973"
      }
     },
     "f482ddb93c28439397ee1d968b49d1c9": {
      "model_module": "@jupyter-widgets/controls",
      "model_module_version": "1.5.0",
      "model_name": "ButtonModel",
      "state": {
       "description": "Scale",
       "layout": "IPY_MODEL_4af1479ba94e4ff9a2e50193d9ad1191",
       "style": "IPY_MODEL_8423769c922541d2bea573f50c80edb6"
      }
     },
     "f6a6e9228e974708a22d4ffbacc88768": {
      "model_module": "@jupyter-widgets/base",
      "model_module_version": "1.2.0",
      "model_name": "LayoutModel",
      "state": {
       "width": "150px"
      }
     },
     "f7ba2b75d87a4807a1329893e4d18985": {
      "model_module": "@jupyter-widgets/controls",
      "model_module_version": "1.5.0",
      "model_name": "HTMLModel",
      "state": {
       "layout": "IPY_MODEL_e3a153e55b4042d4b85204d822becfc6",
       "style": "IPY_MODEL_eb59c36004974c6b8ee8b8c0a242441e",
       "value": "<h2>SLURMCluster</h2>"
      }
     },
     "f97d0fb189974680842c3fa2f7e25bdf": {
      "model_module": "@jupyter-widgets/base",
      "model_module_version": "1.2.0",
      "model_name": "LayoutModel",
      "state": {}
     }
    },
    "version_major": 2,
    "version_minor": 0
   }
  }
 },
 "nbformat": 4,
 "nbformat_minor": 4
}
