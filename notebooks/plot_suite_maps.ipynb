{
 "cells": [
  {
   "cell_type": "code",
   "execution_count": null,
   "metadata": {},
   "outputs": [],
   "source": [
    "import yaml\n",
    "\n",
    "import utils\n",
    "from utils.utils_units import conv_units\n",
    "from utils.Plotting import _apply_log10_vals\n",
    "\n",
    "import matplotlib.pyplot as plt\n",
    "import numpy as np\n",
    "import xarray as xr\n",
    "import cftime\n",
    "from tqdm.auto import tqdm\n",
    "from pathlib import Path\n",
    "import dask\n",
    "from dask_jobqueue import SLURMCluster\n",
    "from distributed import Client, progress, wait\n",
    "%matplotlib inline\n",
    "%load_ext autoreload\n",
    "%autoreload 2\n"
   ]
  },
  {
   "cell_type": "code",
   "execution_count": null,
   "metadata": {},
   "outputs": [],
   "source": [
    "cluster = SLURMCluster(cores=10, processes=10, memory=\"50GB\")\n",
    "cluster.scale(30)\n",
    "client = Client(cluster)\n",
    "cluster"
   ]
  },
  {
   "cell_type": "code",
   "execution_count": null,
   "metadata": {},
   "outputs": [],
   "source": [
    "image_dir = Path(\"../images\")\n",
    "image_dir.mkdir(parents=True, exist_ok=True)"
   ]
  },
  {
   "cell_type": "code",
   "execution_count": null,
   "metadata": {},
   "outputs": [],
   "source": [
    "with open(\"diag_metadata.yaml\", mode=\"r\") as fptr:\n",
    "    diag_metadata_list = yaml.safe_load(fptr)"
   ]
  },
  {
   "cell_type": "code",
   "execution_count": null,
   "metadata": {},
   "outputs": [],
   "source": [
    "def summary_plot_maps(da, varname, isel_dict, diag_metadata):\n",
    "    # maps, 1 plots for time level\n",
    "    cmap = \"plasma\"\n",
    "\n",
    "    for apply_log10 in _apply_log10_vals(diag_metadata):\n",
    "        vmin = diag_metadata.get(\"map_vmin\")\n",
    "        vmax = diag_metadata.get(\"map_vmax\")\n",
    "        if apply_log10:\n",
    "            if vmin is not None:\n",
    "                vmin = np.log10(vmin) if vmin > 0.0 else None\n",
    "            if vmax is not None:\n",
    "                vmax = np.log10(vmax) if vmax > 0.0 else None\n",
    "        for t_ind in range(len(da[\"time\"])):\n",
    "            try:\n",
    "                to_plot = da.isel(time=t_ind)\n",
    "                time = str(to_plot.time.data.item())\n",
    "                filename = f\"{varname}+{time}\"\n",
    "                if \"display_units\" in diag_metadata:\n",
    "                    to_plot = conv_units(\n",
    "                        to_plot, diag_metadata[\"display_units\"]\n",
    "                    )\n",
    "                if apply_log10:\n",
    "                    to_plot = np.log10(xr.where(to_plot > 0.0, to_plot, np.nan))\n",
    "                    to_plot.name = f\"log10({to_plot.name})\"\n",
    "                    filename = f\"{filename}+log_10@{apply_log10}\"\n",
    "                if isel_dict is not None:\n",
    "                    depth_levels = dict()\n",
    "                    for key in isel_dict:\n",
    "                        depth_levels[key] = to_plot[key].data.item()\n",
    "                    s = \"+\".join(\n",
    "                        [\n",
    "                            \"%s@%s\" % (key, value)\n",
    "                            for (key, value) in depth_levels.items()\n",
    "                        ]\n",
    "                    )\n",
    "                    filename = f\"{filename}+{s}.png\"\n",
    "                else:\n",
    "                    filename = f\"{filename}.png\"\n",
    "                path = (image_dir / filename).as_posix()\n",
    "                ax = to_plot.plot(cmap=cmap, vmin=vmin, vmax=vmax)\n",
    "                fig = ax.get_figure()\n",
    "                plt.savefig(path, dpi=300)\n",
    "                plt.close(fig)\n",
    "            except Exception as e:  # TODO: Figure out what to do in case of a failure\n",
    "                print(e)"
   ]
  },
  {
   "cell_type": "code",
   "execution_count": null,
   "metadata": {},
   "outputs": [],
   "source": [
    "def summary_plots(case, stream, diag_metadata):\n",
    "    ds = case.history_contents[stream]\n",
    "    varname = diag_metadata[\"varname\"]\n",
    "    isel_dict = diag_metadata.get(\"isel_dict\")\n",
    "    da = ds[varname].isel(isel_dict)\n",
    "    summary_plot_maps(da, varname, isel_dict, diag_metadata)\n",
    "\n",
    "\n",
    "summary_plots_delayed = dask.delayed(summary_plots)"
   ]
  },
  {
   "cell_type": "code",
   "execution_count": null,
   "metadata": {},
   "outputs": [],
   "source": [
    "case = utils.CaseClass(\n",
    "    \"g.e22.G1850ECO_JRA_HR.TL319_t13.004\",\n",
    "    start_date=\"0001-01\",\n",
    "    end_date=\"0003-12\",\n",
    ")\n",
    "stream = \"pop.h\"\n",
    "case._open_history_files(stream)\n",
    "\n",
    "tasks = []\n",
    "for diag_metadata in tqdm(diag_metadata_list):\n",
    "    tasks.append(summary_plots_delayed(case, stream, diag_metadata))"
   ]
  },
  {
   "cell_type": "code",
   "execution_count": null,
   "metadata": {},
   "outputs": [],
   "source": [
    "x = client.compute(tasks)  # start computation in the background\n",
    "progress(x)  # watch progress\n",
    "wait(x)"
   ]
  },
  {
   "cell_type": "code",
   "execution_count": null,
   "metadata": {},
   "outputs": [],
   "source": [
    "cluster.close()"
   ]
  },
  {
   "cell_type": "code",
   "execution_count": null,
   "metadata": {},
   "outputs": [],
   "source": []
  }
 ],
 "metadata": {
  "kernelspec": {
   "display_name": "Python 3",
   "language": "python",
   "name": "python3"
  },
  "language_info": {
   "codemirror_mode": {
    "name": "ipython",
    "version": 3
   },
   "file_extension": ".py",
   "mimetype": "text/x-python",
   "name": "python",
   "nbconvert_exporter": "python",
   "pygments_lexer": "ipython3",
   "version": "3.7.8"
  },
  "widgets": {
   "application/vnd.jupyter.widget-state+json": {
    "state": {},
    "version_major": 2,
    "version_minor": 0
   }
  }
 },
 "nbformat": 4,
 "nbformat_minor": 4
}
